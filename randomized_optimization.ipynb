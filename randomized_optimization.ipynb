{
 "cells": [
  {
   "cell_type": "code",
   "execution_count": null,
   "id": "national-database",
   "metadata": {},
   "outputs": [],
   "source": [
    "%matplotlib inline\n",
    "import matplotlib\n",
    "from matplotlib import pyplot as plt\n",
    "import mlrose_hiive as mlrose\n",
    "from mlrose_hiive import simulated_annealing as sa, random_hill_climb as rhc, genetic_alg as ga, mimic\n",
    "from mlrose_hiive import RHCRunner, SARunner, GARunner, MIMICRunner, NNGSRunner, ExpDecay, GeomDecay, FourPeaks, FlipFlop\n",
    "from mlrose_hiive.algorithms import gradient_descent as gd\n",
    "import numpy as np\n",
    "import pandas as pd\n",
    "import random\n",
    "import json\n",
    "from randomized_optimization import run_problem_config, queens_problem, get_diabetes_data\n",
    "\n",
    "# set up matplotlib\n",
    "is_ipython = 'inline' in matplotlib.get_backend()\n",
    "if is_ipython:\n",
    "    from IPython import display\n",
    "plt.ion()\n",
    "\n",
    "# notebook is mainly for exploration, use python script to generate final results\n",
    "\n",
    "RS = 199101440\n",
    "np.random.seed(RS) # keep results consistent\n",
    "random.seed(RS)\n",
    "\n",
    "from sklearn.metrics import accuracy_score"
   ]
  },
  {
   "cell_type": "code",
   "execution_count": null,
   "id": "normal-roberts",
   "metadata": {},
   "outputs": [],
   "source": [
    "n = 4\n",
    "#roblem = queens_problem(n)\n",
    "#problem = mlrose.DiscreteOpt(length=n, fitness_fn=FourPeaks(), maximize=True, max_val=2)\n",
    "problem = mlrose.DiscreteOpt(length=n, fitness_fn=FlipFlop(), maximize=True, max_val=2)\n",
    "#sa(problem,schedule=GeomDecay(),max_attempts=1000,max_iters=1000,fevals=True, random_state=RS)\n",
    "#rhc(problem,max_attempts=100,max_iters=1000,random_state=RS, restarts=5)\n",
    "#ga(problem)\n",
    "mimic(problem)"
   ]
  },
  {
   "cell_type": "code",
   "execution_count": null,
   "id": "optional-harbor",
   "metadata": {},
   "outputs": [],
   "source": [
    "with open(\"nnconfig.json\", 'r') as fp:\n",
    "    config = json.load(fp)"
   ]
  },
  {
   "cell_type": "code",
   "execution_count": null,
   "id": "apparent-child",
   "metadata": {},
   "outputs": [],
   "source": [
    "#results = run_problem_config(config)\n",
    "#rhc_run_stats, rhc_run_curves, sa_run_stats, sa_run_curves, ga_run_stats, ga_run_curves, mimic_run_stats, mimic_run_curves = results"
   ]
  },
  {
   "cell_type": "code",
   "execution_count": null,
   "id": "experimental-reference",
   "metadata": {},
   "outputs": [],
   "source": [
    "x_train, x_test, y_train, y_test = get_diabetes_data()\n",
    "train_df = pd.DataFrame(x_train, y_train)"
   ]
  },
  {
   "cell_type": "code",
   "execution_count": null,
   "id": "quantitative-folder",
   "metadata": {},
   "outputs": [],
   "source": [
    "train_df.head()"
   ]
  },
  {
   "cell_type": "code",
   "execution_count": null,
   "id": "historic-victor",
   "metadata": {},
   "outputs": [],
   "source": [
    "shared_params = {\n",
    "    'max_iters': [1000],                  \n",
    "    'learning_rate_init': [0.0002],               \n",
    "    'activation': [mlrose.relu],\n",
    "    'hidden_layer_sizes': [[49]]\n",
    "}\n",
    "\n",
    "runner_params = {\n",
    "    \"x_train\" : x_train,\n",
    "    \"y_train\" : y_train,\n",
    "    \"x_test\" : x_test,\n",
    "    \"y_test\" : y_test,\n",
    "    \"experiment_name\": \"nn\",\n",
    "    \"clip_max\": 5,\n",
    "    \"max_attempts\": 10,\n",
    "    \"n_jobs\": 8,\n",
    "    \"seed\": RS,\n",
    "    \"cv\": 2\n",
    "}"
   ]
  },
  {
   "cell_type": "code",
   "execution_count": null,
   "id": "approximate-fabric",
   "metadata": {},
   "outputs": [],
   "source": [
    "# gradient dececent\n",
    "it_list = config['gd']['iteration_list']\n",
    "gd_nnr = NNGSRunner(algorithm=gd, grid_search_parameters=shared_params,iteration_list=it_list, **runner_params)\n",
    "\n",
    "# randomized hill climbing\n",
    "rhc_params = shared_params | {\"restarts\" : config['rhc']['restart_list']}\n",
    "it_list = config['rhc']['iteration_list']\n",
    "rhc_nnr = NNGSRunner(algorithm=rhc, grid_search_parameters=rhc_params,iteration_list=it_list, **runner_params)\n",
    "\n",
    "# simulated annealing\n",
    "temp_list = [GeomDecay(init_temp=t) for t in config['sa']['temperature_list']]\n",
    "sa_params = shared_params | {\"schedule\" : temp_list}\n",
    "it_list = config['sa']['iteration_list']\n",
    "sa_nnr = NNGSRunner(algorithm=sa, grid_search_parameters=sa_params,iteration_list=it_list, **runner_params)\n",
    "\n",
    "# genetic algorithms\n",
    "ga_params = {\"mutation_prob\" : config['ga']['mutation_rates'], \"pop_size\": config['ga']['population_sizes']}\n",
    "ga_params = shared_params | ga_params\n",
    "it_list = config['ga']['iteration_list']\n",
    "ga_nnr = NNGSRunner(algorithm=ga, grid_search_parameters=ga_params,iteration_list=it_list, **runner_params)"
   ]
  },
  {
   "cell_type": "code",
   "execution_count": null,
   "id": "round-scholar",
   "metadata": {},
   "outputs": [],
   "source": [
    "run_stats, curves, cv_results, grid_search_cv = ga_nnr.run()\n",
    "run_stats = run_stats[run_stats['Iteration'] != 0]\n",
    "run_stats = run_stats.query(\"Fitness == Fitness.min()\")\n",
    "run_stats.reset_index(inplace=True, drop=True)"
   ]
  },
  {
   "cell_type": "code",
   "execution_count": null,
   "id": "beautiful-robert",
   "metadata": {},
   "outputs": [],
   "source": [
    "curves.plot(title=f\"{run_stats['algorithm'][0]} NN Fitness over Iterations\", xlabel=\"Iterations\", ylabel=\"Fitness\", x=\"Iteration\", y=\"Fitness\")"
   ]
  },
  {
   "cell_type": "code",
   "execution_count": null,
   "id": "silver-garage",
   "metadata": {},
   "outputs": [],
   "source": [
    "run_stats"
   ]
  },
  {
   "cell_type": "code",
   "execution_count": null,
   "id": "complicated-teens",
   "metadata": {},
   "outputs": [],
   "source": [
    "cv_results"
   ]
  },
  {
   "cell_type": "code",
   "execution_count": null,
   "id": "complimentary-smoke",
   "metadata": {},
   "outputs": [],
   "source": [
    "y_test_pred = grid_search_cv.predict(x_test)\n",
    "y_test_accuracy = accuracy_score(y_test, y_test_pred)\n",
    "print(y_test_accuracy)"
   ]
  },
  {
   "cell_type": "code",
   "execution_count": null,
   "id": "growing-hurricane",
   "metadata": {},
   "outputs": [],
   "source": []
  }
 ],
 "metadata": {
  "kernelspec": {
   "display_name": "Python 3",
   "language": "python",
   "name": "python3"
  },
  "language_info": {
   "codemirror_mode": {
    "name": "ipython",
    "version": 3
   },
   "file_extension": ".py",
   "mimetype": "text/x-python",
   "name": "python",
   "nbconvert_exporter": "python",
   "pygments_lexer": "ipython3",
   "version": "3.9.1"
  }
 },
 "nbformat": 4,
 "nbformat_minor": 5
}
